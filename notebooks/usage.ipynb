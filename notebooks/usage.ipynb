{
 "cells": [
  {
   "cell_type": "code",
   "execution_count": null,
   "metadata": {},
   "outputs": [],
   "source": [
    "using Pkg\n",
    "Pkg.activate(joinpath(@__DIR__,\"..\"))"
   ]
  },
  {
   "cell_type": "code",
   "execution_count": null,
   "metadata": {},
   "outputs": [],
   "source": [
    "using CalciumImagingAnalyses\n",
    "using CalciumImagingAnalyses: get_cell_data, get_behavioural_data, decode, train_decoder"
   ]
  },
  {
   "cell_type": "code",
   "execution_count": null,
   "metadata": {},
   "outputs": [],
   "source": [
    "CalciumImagingAnalyses.get_behavioural_data"
   ]
  },
  {
   "cell_type": "markdown",
   "metadata": {},
   "source": [
    "## Decoding\n",
    "We'll first construct a linear discriminant-based decoder to decode the direction that the mouse is going to poke. The input to the decoder will be the activity of all the calcium traces aligned to each poke event, averaged over a 1s window leading up to the poke. Because we have many more cells that trials, we'll first find a subspace spanned by the top singular vectors of the average activity matrix. We'll include enough singular vectors to account for 75% of the total weigth of the singular values. "
   ]
  },
  {
   "cell_type": "code",
   "execution_count": null,
   "metadata": {},
   "outputs": [],
   "source": [
    "datadir = joinpath(@__DIR__, \"..\",\"..\",\"data\")\n",
    "# load data from the last day of pre-phase\n",
    "cell_data_pre, timestamps_pre = get_cell_data(joinpath(datadir,\"E10A\",\"trace_10A_PRE3_unix.csv\");filter_accepted=false)\n",
    "# load behavioural data\n",
    "pokes_pre = get_behavioural_data(joinpath(datadir, \"E10A_E10B_Behavior/PRED3/E10A_PRED3.csv\"))\n",
    "\n",
    "# train a decoder to decode the mouse's chosen poke direction\n",
    "q_pre = decode(cell_data_pre, timestamps_pre, pokes_pre.rewarded_poke_time, pokes_pre.rewarded_poke_type;pratio=0.75);"
   ]
  },
  {
   "cell_type": "markdown",
   "metadata": {},
   "source": [
    "Let's plot the decoder output as a function of time, in the session, with the poke events indicated by blue vertical lines (left pokes) and right vertical lines (right pokes). "
   ]
  },
  {
   "cell_type": "code",
   "execution_count": null,
   "metadata": {},
   "outputs": [],
   "source": [
    "using CairoMakie\n",
    "\n",
    "fig = CalciumImagingAnalyses.plot_timeseries(q_pre, timestamps_pre, pokes_pre.rewarded_poke_time, pokes_pre.rewarded_poke_type)"
   ]
  },
  {
   "cell_type": "markdown",
   "metadata": {},
   "source": [
    "The first thing to observe is that this particular mouse has a strong preference for leftward pokes, even though both left and right pokes are being rewarded. Consistent with this, the value of the decoder function mostly stays above 0. Notably, It only seems to correctly decode 2 of 4 rightward pokes, while the left poke 7.5min is misclassified as a rigth poke (the decoder values dips sharply below 0). In addition, there doesn't seem to be a strong correlation between the dynamics of the decoder function value and the poke event; for some events, one can clearly observe an increase in the decoder value, while for other events, the decoder values appears to mostly flat.\n",
    "\n",
    "Let's apply the decoder trained during the pre phase to the traces obtained during the associate fixed rate phase (aFR1). During this phase, only one of the ports is rewarded, and the mouse has to figure out through trial and error which port it is."
   ]
  },
  {
   "cell_type": "code",
   "execution_count": null,
   "metadata": {},
   "outputs": [],
   "source": [
    "pokes_afr = get_behavioural_data(joinpath(datadir,\"E10A\",\"behaviour/aFR1_D1/2023/11/FED002_112023_00.csv\"))\n",
    "cell_data_afr, timestamps_afr = get_cell_data(joinpath(datadir,\"E10A\",\"trace_10A_aFR1_unix.csv\");filter_accepted=false)\n",
    "# get the subspace w and the lda space from the pre-phase\n",
    "w,lda,_ = train_decoder(cell_data_pre, timestamps_pre, pokes_pre.rewarded_poke_time, pokes_pre.rewarded_poke_type;pratio=0.75)\n",
    "\n",
    "# project the data from the afr phase onto the subspace obtained from the pre-phase, and then apply the pre-phase plot_decoder\n",
    "# combine both rewarded and unrewarded pokes\n",
    "poke_time = [pokes_afr.rewarded_poke_time;pokes_afr.unrewarded_poke_time]\n",
    "# label rewarded vs unrewarded\n",
    "poke_types = [fill(\"rewarded\", length(pokes_afr.rewarded_poke_time));fill(\"unrewarded\", length(pokes_afr.unrewarded_poke_time))]\n",
    "# label left vs right\n",
    "poke_types2 = [pokes_afr.rewarded_poke_type;pokes_afr.unrewarded_poke_type]\n",
    "\n",
    "q_afr = decode(w, lda, cell_data_afr, timestamps_afr, poke_time;pratio=0.75)\n",
    "fig2 = CalciumImagingAnalyses.plot_timeseries(q_afr, timestamps_afr,poke_time, collect(zip(poke_types, poke_types2)))"
   ]
  },
  {
   "cell_type": "markdown",
   "metadata": {},
   "source": [
    "Since this mouse had a strong preference for left pokes, and the aFR phase reinforces this bias, the decoder appears to do quite well also here. Note, though, that that is because the decoder appears to simply output 'left' (i.e. positive value) most of the time, rendering it correct almost by default. Also note that, there is negative deflection at the very beginning of the sesison whic is followed by a left, rather than right, poke, follow by a strong postive deflection which is followed by two rigth pokes in rapid succession. For both of these cases, the decoder makes a mistake. \n",
    "\n",
    "We would need to train a decoder on session where we also see a number of right rewarded choices to have confidence that it is picking something real in the data. This can be achieved by combining the aFR and rFR phases, i.e. the associative and the reversal phase. For the mouse shown above, the rFR phase would consist of trials in which only right pokes were rewarded, and these trials would allow the decoder to get a good representation of what the calcium activity assicated with right pokes looks like."
   ]
  }
 ],
 "metadata": {
  "kernelspec": {
   "display_name": "Julia 1.11.1",
   "language": "julia",
   "name": "julia-1.11"
  },
  "language_info": {
   "file_extension": ".jl",
   "mimetype": "application/julia",
   "name": "julia",
   "version": "1.11.1"
  }
 },
 "nbformat": 4,
 "nbformat_minor": 2
}
